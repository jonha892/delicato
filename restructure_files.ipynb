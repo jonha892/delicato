{
 "cells": [
  {
   "cell_type": "code",
   "execution_count": 2,
   "metadata": {},
   "outputs": [],
   "source": [
    "%reload_ext autoreload\n",
    "%autoreload 2\n",
    "\n",
    "from pathlib import Path\n",
    "import shutil\n",
    "\n",
    "import delicato.nfi_loader as nfi_loader\n",
    "import delicato.cedar_loader as cedar_loader"
   ]
  },
  {
   "cell_type": "code",
   "execution_count": 32,
   "metadata": {},
   "outputs": [],
   "source": [
    "out_path = Path() / 'data' / 'blob'\n",
    "nfi_path = Path() / 'data' / 'kaggle' / 'Dataset_Signature_Final'\n",
    "cedar_path = Path() / 'data' / 'kaggle' / 'CEDAR'\n",
    "\n",
    "#genuine, forged = nfi_loader.load_all(nfi_path)\n",
    "data = cedar_loader.load_all(cedar_path)\n"
   ]
  },
  {
   "cell_type": "code",
   "execution_count": 33,
   "metadata": {},
   "outputs": [],
   "source": [
    "for d in data:\n",
    "  filename = Path(d['path']).name\n",
    "  path = out_path / ('cedar_' + d['local_id']) / ('genuine' if d['is_genuine'] else 'forged') / filename\n",
    "  #print(path, filename)\n",
    "  path.parent.mkdir(parents=True, exist_ok=True)\n",
    "  shutil.copy(d['path'], path)"
   ]
  },
  {
   "cell_type": "code",
   "execution_count": 46,
   "metadata": {},
   "outputs": [],
   "source": [
    "# move NFI data\n",
    "\n",
    "for k, v in genuine.items():\n",
    "    # create directory\n",
    "    Path(out_path / f'nfi_{k}').mkdir(parents=True, exist_ok=True)\n",
    "    dest_dir = Path(out_path / f'nfi_{k}' / 'genuine')\n",
    "    dest_dir.mkdir(parents=True, exist_ok=True)\n",
    "\n",
    "    for i, p in enumerate(v):\n",
    "        name = Path(p['path']).name\n",
    "        dest = dest_dir / name\n",
    "        shutil.copy(p['path'], dest)\n",
    "\n",
    "for k, v in forged.items():\n",
    "    # create directory\n",
    "    Path(out_path / f'nfi_{k}').mkdir(parents=True, exist_ok=True)\n",
    "    dest_dir = Path(out_path / f'nfi_{k}' / 'forged')\n",
    "    dest_dir.mkdir(parents=True, exist_ok=True)\n",
    "\n",
    "    for i, p in enumerate(v):\n",
    "        name = Path(p['path']).name\n",
    "        dest = dest_dir / name\n",
    "        shutil.copy(p['path'], dest)"
   ]
  },
  {
   "cell_type": "code",
   "execution_count": null,
   "metadata": {},
   "outputs": [],
   "source": []
  }
 ],
 "metadata": {
  "kernelspec": {
   "display_name": ".wvenv",
   "language": "python",
   "name": "python3"
  },
  "language_info": {
   "codemirror_mode": {
    "name": "ipython",
    "version": 3
   },
   "file_extension": ".py",
   "mimetype": "text/x-python",
   "name": "python",
   "nbconvert_exporter": "python",
   "pygments_lexer": "ipython3",
   "version": "3.12.3"
  }
 },
 "nbformat": 4,
 "nbformat_minor": 2
}
