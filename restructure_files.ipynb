{
 "cells": [
  {
   "cell_type": "code",
   "execution_count": 23,
   "metadata": {},
   "outputs": [],
   "source": [
    "%reload_ext autoreload\n",
    "%autoreload 2\n",
    "\n",
    "from pathlib import Path\n",
    "import shutil\n",
    "\n",
    "import delicato.nfi_loader as nfi_loader"
   ]
  },
  {
   "cell_type": "code",
   "execution_count": 43,
   "metadata": {},
   "outputs": [
    {
     "name": "stdout",
     "output_type": "stream",
     "text": [
      "['data\\\\kaggle\\\\Dataset_Signature_Final\\\\Dataset\\\\dataset1\\\\', 'data\\\\kaggle\\\\Dataset_Signature_Final\\\\Dataset\\\\dataset2\\\\', 'data\\\\kaggle\\\\Dataset_Signature_Final\\\\Dataset\\\\dataset3\\\\', 'data\\\\kaggle\\\\Dataset_Signature_Final\\\\Dataset\\\\dataset4\\\\']\n",
      "data\\kaggle\\Dataset_Signature_Final\\Dataset\\dataset1\\ 120\n",
      "data\\kaggle\\Dataset_Signature_Final\\Dataset\\dataset2\\ 120\n",
      "data\\kaggle\\Dataset_Signature_Final\\Dataset\\dataset3\\ 300\n",
      "data\\kaggle\\Dataset_Signature_Final\\Dataset\\dataset4\\ 180\n"
     ]
    }
   ],
   "source": [
    "out_path = Path() / 'data' / 'blob'\n",
    "\n",
    "nfi_path = Path() / 'data' / 'kaggle' / 'Dataset_Signature_Final'\n",
    "\n",
    "\n",
    "genuine, forged = nfi_loader.load_all(nfi_path)"
   ]
  },
  {
   "cell_type": "code",
   "execution_count": 39,
   "metadata": {},
   "outputs": [
    {
     "data": {
      "text/plain": [
       "(0, 0)"
      ]
     },
     "execution_count": 39,
     "metadata": {},
     "output_type": "execute_result"
    }
   ],
   "source": [
    "len(genuine), len(forged)"
   ]
  },
  {
   "cell_type": "code",
   "execution_count": 44,
   "metadata": {},
   "outputs": [
    {
     "name": "stdout",
     "output_type": "stream",
     "text": [
      "Genuine\n",
      "dataset1_001 5\n",
      "dataset1_002 5\n",
      "dataset1_003 5\n",
      "dataset1_004 5\n",
      "dataset1_005 5\n",
      "dataset1_006 5\n",
      "dataset1_007 5\n",
      "dataset1_008 5\n",
      "dataset1_009 5\n",
      "dataset1_010 5\n",
      "dataset1_011 5\n",
      "dataset1_012 5\n",
      "dataset2_001 5\n",
      "dataset2_002 5\n",
      "dataset2_003 5\n",
      "dataset2_004 5\n",
      "dataset2_005 5\n",
      "dataset2_006 5\n",
      "dataset2_007 5\n",
      "dataset2_008 5\n",
      "dataset2_009 5\n",
      "dataset2_010 5\n",
      "dataset2_011 5\n",
      "dataset2_012 5\n",
      "dataset3_001 5\n",
      "dataset3_002 5\n",
      "dataset3_003 5\n",
      "dataset3_004 5\n",
      "dataset3_005 5\n",
      "dataset3_006 5\n",
      "dataset3_007 5\n",
      "dataset3_008 5\n",
      "dataset3_009 5\n",
      "dataset3_010 5\n",
      "dataset3_011 5\n",
      "dataset3_012 5\n",
      "dataset3_013 5\n",
      "dataset3_014 5\n",
      "dataset3_015 5\n",
      "dataset3_016 5\n",
      "dataset3_017 5\n",
      "dataset3_018 5\n",
      "dataset3_019 5\n",
      "dataset3_020 5\n",
      "dataset3_021 5\n",
      "dataset3_022 5\n",
      "dataset3_023 5\n",
      "dataset3_024 5\n",
      "dataset3_025 5\n",
      "dataset3_026 5\n",
      "dataset3_027 5\n",
      "dataset3_028 5\n",
      "dataset3_029 5\n",
      "dataset3_030 5\n",
      "dataset4_002 5\n",
      "dataset4_008 5\n",
      "dataset4_016 5\n",
      "dataset4_024 5\n",
      "dataset4_033 5\n",
      "dataset4_035 5\n",
      "dataset4_044 5\n",
      "dataset4_046 5\n",
      "dataset4_063 5\n",
      "dataset4_070 5\n",
      "dataset4_071 5\n",
      "dataset4_077 5\n",
      "dataset4_084 5\n",
      "dataset4_085 5\n",
      "dataset4_086 5\n",
      "dataset4_089 5\n",
      "dataset4_092 5\n",
      "dataset4_093 5\n"
     ]
    }
   ],
   "source": [
    "print(\"Genuine\")\n",
    "for k, v in genuine.items():\n",
    "    print(k, len(v))"
   ]
  },
  {
   "cell_type": "code",
   "execution_count": 46,
   "metadata": {},
   "outputs": [],
   "source": [
    "# move data\n",
    "\n",
    "for k, v in genuine.items():\n",
    "    # create directory\n",
    "    Path(out_path / f'nfi_{k}').mkdir(parents=True, exist_ok=True)\n",
    "    dest_dir = Path(out_path / f'nfi_{k}' / 'genuine')\n",
    "    dest_dir.mkdir(parents=True, exist_ok=True)\n",
    "\n",
    "    for i, p in enumerate(v):\n",
    "        name = Path(p['path']).name\n",
    "        dest = dest_dir / name\n",
    "        shutil.copy(p['path'], dest)\n",
    "\n",
    "for k, v in forged.items():\n",
    "    # create directory\n",
    "    Path(out_path / f'nfi_{k}').mkdir(parents=True, exist_ok=True)\n",
    "    dest_dir = Path(out_path / f'nfi_{k}' / 'forged')\n",
    "    dest_dir.mkdir(parents=True, exist_ok=True)\n",
    "\n",
    "    for i, p in enumerate(v):\n",
    "        name = Path(p['path']).name\n",
    "        dest = dest_dir / name\n",
    "        shutil.copy(p['path'], dest)"
   ]
  },
  {
   "cell_type": "code",
   "execution_count": null,
   "metadata": {},
   "outputs": [],
   "source": []
  }
 ],
 "metadata": {
  "kernelspec": {
   "display_name": ".wvenv",
   "language": "python",
   "name": "python3"
  },
  "language_info": {
   "codemirror_mode": {
    "name": "ipython",
    "version": 3
   },
   "file_extension": ".py",
   "mimetype": "text/x-python",
   "name": "python",
   "nbconvert_exporter": "python",
   "pygments_lexer": "ipython3",
   "version": "3.11.9"
  }
 },
 "nbformat": 4,
 "nbformat_minor": 2
}
